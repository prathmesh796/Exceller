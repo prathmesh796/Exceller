{
 "cells": [
  {
   "cell_type": "code",
   "execution_count": 1,
   "id": "b2211977",
   "metadata": {},
   "outputs": [],
   "source": [
    "import pandas as pd\n",
    "import json\n",
    "import google.generativeai as genai\n",
    "import os"
   ]
  },
  {
   "cell_type": "code",
   "execution_count": 2,
   "id": "415a36c3",
   "metadata": {},
   "outputs": [],
   "source": [
    "def excel_to_json(file_path, output_file):\n",
    "    xls = pd.ExcelFile(file_path)\n",
    "    data = {}\n",
    "    \n",
    "    for sheet in xls.sheet_names:\n",
    "        df = pd.read_excel(xls, sheet_name=sheet)\n",
    "        df.fillna(value=999, inplace=True)\n",
    "        data[sheet] = df.to_dict(orient='records')\n",
    "\n",
    "    with open(output_file, 'w') as json_file:\n",
    "        json.dump(data, json_file, indent=4)\n",
    "\n",
    "    print(f'Converted {file_path} to output_file')"
   ]
  },
  {
   "cell_type": "code",
   "execution_count": 3,
   "id": "9a2f3dd3",
   "metadata": {},
   "outputs": [
    {
     "name": "stdout",
     "output_type": "stream",
     "text": [
      "Converted C:\\Users\\prathmesh\\OneDrive\\Desktop\\Codes\\Excel_reader\\Central Job Leveling Framework - Radford reference.xlsx to output_file\n",
      "Converted C:\\Users\\prathmesh\\OneDrive\\Desktop\\Codes\\Excel_reader\\Radford Data.xlsx to output_file\n",
      "Converted C:\\Users\\prathmesh\\OneDrive\\Desktop\\Codes\\Excel_reader\\Company Example 1_ Career Pathing Template.xlsx to output_file\n"
     ]
    }
   ],
   "source": [
    "files = {\n",
    "    \"Central Job Leveling Framework - Radford reference\": r\"C:\\Users\\prathmesh\\OneDrive\\Desktop\\Codes\\Excel_reader\\Central Job Leveling Framework - Radford reference.xlsx\",\n",
    "    \"Radford Data\": r\"C:\\Users\\prathmesh\\OneDrive\\Desktop\\Codes\\Excel_reader\\Radford Data.xlsx\",\n",
    "    \"Company Example 1 - Career Pathing Template\": r\"C:\\Users\\prathmesh\\OneDrive\\Desktop\\Codes\\Excel_reader\\Company Example 1_ Career Pathing Template.xlsx\"\n",
    "}\n",
    "\n",
    "for name, path in files.items():\n",
    "    excel_to_json(path, f'{name}.json')"
   ]
  },
  {
   "cell_type": "code",
   "execution_count": 4,
   "id": "d30c51d2",
   "metadata": {},
   "outputs": [],
   "source": [
    "os.environ[\"API_KEY\"] = \"$ {{API_KEY}}\"\n",
    "genai.configure(api_key=os.environ[\"API_KEY\"])\n",
    "\n",
    "prompt_template = \"\"\"\n",
    "You are a data conversion assistant. Convert the following Radford base data terminology to match the example data terminology:\n",
    "\n",
    "Radford Data: \n",
    "{input_data}\n",
    "\n",
    "Converted Data:\n",
    "\"\"\""
   ]
  },
  {
   "cell_type": "code",
   "execution_count": 5,
   "id": "9749ed97",
   "metadata": {},
   "outputs": [],
   "source": [
    "def convert_data_with_gpt(input_data):\n",
    "    prompt = prompt_template.format(input_data=input_data)\n",
    "    model = genai.GenerativeModel('gemini-1.5-flash')\n",
    "    response = model.generate_content(\n",
    "        #messages=[\n",
    "         #   {'role': 'system', 'content': 'You are a data conversion assitant'},\n",
    "        #    {'role': 'system', 'content': prompt}\n",
    "        #],\n",
    "        prompt\n",
    "        #max_tokens=1500\n",
    "    )\n",
    "    return response.text"
   ]
  },
  {
   "cell_type": "code",
   "execution_count": 6,
   "id": "08cba076",
   "metadata": {},
   "outputs": [
    {
     "name": "stdout",
     "output_type": "stream",
     "text": [
      "```python\n",
      "converted_data = {\n",
      "    'Summary Title & Structure': [\n",
      "        {'Thumbtack': 'Level', 'Radford': 'Management Level', 'Professional': 'Professional Level', 'Support': 'Support Level', 'General (Professional) Title Stuctures': 'Management Title', 'Individual Contributor': 'Individual Contributor Title', 'Unnamed: 6': 999, 'Unnamed: 7': 999, 'Unnamed: 8': 999, 'Support & Operations Team Titles Structure': 'Management Title', 'Unnamed: 10': 'Individual Contributor Title'},\n",
      "        {'Thumbtack': 10, 'Radford': 'Executive', 'Unnamed: 2': 999, 'Unnamed: 3': 999, 'General (Professional) Title Stuctures': 'VP, X', 'Unnamed: 5': 999, 'Unnamed: 6': 999, 'Unnamed: 7': 999, 'Unnamed: 8': 999, 'Support & Operations Team Titles Structure': 'VP, X', 'Unnamed: 10': 999},\n",
      "        {'Thumbtack': 9, 'Radford': 'Senior Director (M6)', 'Unnamed: 2': 'Distinguished (P7)', 'Unnamed: 3': 999, 'General (Professional) Title Stuctures': 'Senior Director, X', 'Unnamed: 5': 999, 'Unnamed: 6': 999, 'Unnamed: 7': 999, 'Unnamed: 8': 999, 'Support & Operations Team Titles Structure': 'Senior Director, X', 'Unnamed: 10': 999},\n",
      "        {'Thumbtack': 8, 'Radford': 'Director (M5)', 'Unnamed: 2': 'Principal / Consultant (P6)', 'Unnamed: 3': 999, 'General (Professional) Title Stuctures': 'Director, X', 'Unnamed: 5': 'Principal X or Senior Lead X', 'Unnamed: 6': 999, 'Unnamed: 7': 999, 'Unnamed: 8': 999, 'Support & Operations Team Titles Structure': 'Director, X', 'Unnamed: 10': 999},\n",
      "        {'Thumbtack': 7, 'Radford': 'Senior Manager (M4)', 'Unnamed: 2': 'Expert (P5)', 'Unnamed: 3': 999, 'General (Professional) Title Stuctures': 'Senior  Manager, X', 'Unnamed: 5': 'Staff X or Lead X', 'Unnamed: 6': 999, 'Unnamed: 7': 999, 'Unnamed: 8': 999, 'Support & Operations Team Titles Structure': 'Senior  Manager, X', 'Unnamed: 10': 999},\n",
      "        {'Thumbtack': 6, 'Radford': 'Manager (M3)', 'Unnamed: 2': 'Advanced (P4)', 'Unnamed: 3': 999, 'General (Professional) Title Stuctures': 'Manager, X', 'Unnamed: 5': 'Senior  X', 'Unnamed: 6': 999, 'Unnamed: 7': 999, 'Unnamed: 8': 999, 'Support & Operations Team Titles Structure': 'Manager II, X', 'Unnamed: 10': 999},\n",
      "        {'Thumbtack': 5, 'Radford': 'Senior Supervisor (M2)', 'Unnamed: 2': 'Career (P3)', 'Unnamed: 3': 'Specialist (S5)', 'General (Professional) Title Stuctures': 999, 'Unnamed: 5': 'X', 'Unnamed: 6': 'X', 'Unnamed: 7': 'X II', 'Unnamed: 8': 'XIII', 'Support & Operations Team Titles Structure': 'Manager I, X', 'Unnamed: 10': 'Senior Lead X'},\n",
      "        {'Thumbtack': 4, 'Radford': 'Supervisor (M1)', 'Unnamed: 2': 'Developing (P2)', 'Unnamed: 3': 'Highly Skilled (S4)', 'General (Professional) Title Stuctures': 999, 'Unnamed: 5': 'Senior Y', 'Unnamed: 6': 'Senior Associate X', 'Unnamed: 7': 'X I', 'Unnamed: 8': 'X II', 'Support & Operations Team Titles Structure': 'Supervisor, X\\nTeam Lead, X', 'Unnamed: 10': 'Lead X'},\n",
      "        {'Thumbtack': 3, 'Radford': 999, 'Unnamed: 2': 'Entry (P1)', 'Unnamed: 3': 'Senior (S3)', 'General (Professional) Title Stuctures': 999, 'Unnamed: 5': 'Y', 'Unnamed: 6': 'Associate X', 'Unnamed: 7': 'Associate X', 'Unnamed: 8': 'X I', 'Support & Operations Team Titles Structure': 999, 'Unnamed: 10': 'Senior  X'},\n",
      "        {'Thumbtack': 2, 'Radford': 999, 'Unnamed: 2': 999, 'Unnamed: 3': 'Intermediate (S2)', 'General (Professional) Title Stuctures': 999, 'Unnamed: 5': 999, 'Unnamed: 6': 999, 'Unnamed: 7': 999, 'Unnamed: 8': 999, 'Support & Operations Team Titles Structure': 999, 'Unnamed: 10': 'X'},\n",
      "        {'Thumbtack': 1, 'Radford': 999, 'Unnamed: 2': 999, 'Unnamed: 3': 'Entry (S1)', 'General (Professional) Title Stuctures': 999, 'Unnamed: 5': 999, 'Unnamed: 6': 999, 'Unnamed: 7': 999, 'Unnamed: 8': 999, 'Support & Operations Team Titles Structure': 999, 'Unnamed: 10': 'Associate X'}\n",
      "    ],\n",
      "    'Criteria by Level': [\n",
      "        {'Unnamed: 0': 'TT Level', 'Management': 'Management Level', 'Unnamed: 2': 'Analogy', 'Unnamed: 3': 'Knowledge & Application', 'Unnamed: 4': 'Complexity & Problem Solving', 'Unnamed: 5': 'Discretion & Impact', 'Unnamed: 6': 'Collaboration & Interaction', 'Unnamed: 7': 'Management & Supervision', 'Professional': 'Professional Level', 'Unnamed: 9': 'Analogy', 'Unnamed: 10': 'Knowledge & Application', 'Unnamed: 11': 'Complexity & Problem Solving', 'Unnamed: 12': 'Collaboration & Interaction', 'Unnamed: 13': 'Typical Degree & Years of Experience', 'Support': 'Support Level', 'Unnamed: 15': 'Knowledge & Application', 'Unnamed: 16': 'Complexity & Problem Solving', 'Unnamed: 17': 'Collaboration & Interaction', 'Unnamed: 18': 'Typical Degree & Years of Experience', 'Unnamed: 19': 999.0},\n",
      "        {'Unnamed: 0': 10, 'Management': 'Vice-President', 'Unnamed: 2': 'Smaller Complexity Functional / Divisional leaders, often VPs', 'Unnamed: 3': 'Responsible for a major function at a division (single-profit center), a major area at group level (multi-profit center), or a major focus at corporate. Establishes strategic plans for functions/areas owned based on corporate strategy.', 'Unnamed: 4': 999, 'Unnamed: 5': ' Establishes strategic plans for functions/areas owned based on corporate strategy. Strategic decisions are critical to functional/area performance and likely have short-term impact (<2 years). Manages change and develops risk mitigation plans. Responsibilities may be regional or local rather than global.', 'Unnamed: 6': 999, 'Unnamed: 7': 'Generally direct reports to Division Presidents, Group function heads, or Corporate area heads. Typically has M6 and/or M5 (director level) direct reports.', 'Professional': 999, 'Unnamed: 9': 999, 'Unnamed: 10': 999, 'Unnamed: 11': 999, 'Unnamed: 12': 999, 'Unnamed: 13': 999, 'Support': 999, 'Unnamed: 15': 999, 'Unnamed: 16': 999, 'Unnamed: 17': 999, 'Unnamed: 18': 999, 'Unnamed: 19': 999.0},\n",
      "        {'Unnamed: 0': 9, 'Management': 'Senior Director (M6)', 'Unnamed: 2': 'Directs efforts of both air and ground search parties (Inspires action, coordinates simultaneous initiatives)', 'Unnamed: 3': 'Develops and provides strategy, vision and direction to multiple functions. Implements company wide policies and practices. Provides input to executive management. Accountable for function financial results which impact organization performance.', 'Unnamed: 4': 'Works consistently with abstract ideas or situations across functional areas of the business. Through assessment of intangible variables, identifies and evaluates fundamental issues, providing strategy and direction for multiple functional areas. Anticipates factors that could influence strategies and company position in the market.', 'Unnamed: 5': \"Establishes and develops broader company strategy and translates into multi functional objectives. Erroneous decisions will effect the company's success, five years or longer.\", 'Unnamed: 6': 'Interacts with internal and external executive level management, requiring negotiation of extremely critical matters Influences policymaking and strategy based on communication strategies and persuasion skills. Partners with executive leadership team for the function to provide cohesive direction towards company goals. Recognized as an influential leader.', 'Unnamed: 7': 'Leads activities of one or more functional areas, divisions, product groups and services through subordinate directors / managers who have overall responsibility for the successful operation of assigned areas. Oversees team(s) to develop new methods and solve company-wide matters.', 'Professional': 'Distinguished (P7)', 'Unnamed: 9': 'Invented the zipper.', 'Unnamed: 10': 'Applies deep technical expertise of current industry and emerging technologies to provide insight and technical leadership to promote new ideas, innovative concepts and resolving critical issues. Uses extensive knowledge of theories, practices and design and is a key influencer in product research, product innovation and growth strategies.', 'Unnamed: 11': 'Consistently works with abstract ideas. Through assessment of intangible variables, identifies and evaluates fundamental issues, providing strategy and direction. Requires in-depth knowledge of industry trends, business strategies and the company’s goals.', 'Unnamed: 12': \"Oversees creative engineering-oriented research or advanced product development. Erroneous decisions will have a long-term effect on the company's success. Consults with and provides guidance on advanced technical issues to leadership. Recognized as a technical leader whose knowledge, ideas and critical thinking impact the organization.\", 'Unnamed: 13': 'Few employees exist at this level as there are significant barriers to entry including special approvals or “gates.”', 'Support': 999, 'Unnamed: 15': 999, 'Unnamed: 16': 999, 'Unnamed: 17': 999, 'Unnamed: 18': 999, 'Unnamed: 19': 999.0},\n",
      "        {'Unnamed: 0': 8, 'Management': 'Director (M5)', 'Unnamed: 2': 'Controls search efforts to find missing hikers. (Strategic battle-tested leader, directs operational units).', 'Unnamed: 3': 'Participates with senior management to establish strategic plans and objectives. Makes final decisions on implementation and ensures operational effectiveness. Effectively cascades functional strategy and contributes to development of organizational policies. Accountable for actions that impact function or multiple department budgets.', 'Unnamed: 4': 'Works on complex issues where problems are not clearly defined and where fundamental principles do not fully apply. Translates business segment strategy into functional plans and guides execution. Participates in corporate development of methods, techniques and evaluation criteria for projects, programs, and people. Ensures budgets and schedules meet corporate requirements.', 'Unnamed: 5': 'Contributes to development of strategies of a function or multi departments. Erroneous decisions will have a critical long term (typically up to five years) impact on the overall success of function or multi departments.', 'Unnamed: 6': 'Interacts with senior management, executives, and/or major customers which frequently involves negotiating matters of significance to the organization. Reconciles multiple stakeholder views to drive business results.', 'Unnamed: 7': 'Directs the activities of a functional area or multiple integrated departments through lower management. Leads team(s) to develop new methods and solve complex matters.', 'Professional': 'Principal / Consultant (P6)', 'Unnamed: 9': 'Invented nylon.', 'Unnamed: 10': 'Serves as an expert in the field and principal advisor. Provides, guides and uses professional concepts in developing resolution to critical issues. Applies extensive knowledge of theories, practices and design matters. Leads the application of existing principles and guides development of new ideas.', 'Unnamed: 11': 'Works on issues that impact program success or addresses future concepts and products. Solutions are devised based on limited information and requires judgment. Implementation of solutions requires a longer term view which impacts strategic goals and objectives. Results impact multiple functions.', 'Unnamed: 12': 'Exercises wide latitude in determining objectives and approaches to critical assignments. Creates formal networks with key decision makers and widely recognized as expert and thought leader by both internal and external community. Serves as external spokesperson for the organization.', 'Unnamed: 13': 'Typically requires a minimum of 15 years of related experience with a Bachelor’s degree; or 12 years and a Master’s degree; or a PhD with 8 years experience; or equivalent experience. Significant barriers to entry (e.g., top management review, approval) exist at this level.', 'Support': 999, 'Unnamed: 15': 999, 'Unnamed: 16': 999, 'Unnamed: 17': 999, 'Unnamed: 18': 999, 'Unnamed: 19': 999.0},\n",
      "        {'Unnamed: 0': 7, 'Management': 'Senior Manager / Associate Director (M4)', 'Unnamed: 2': 'Pilots expedition through unexpected snow storm. (Strong tactical decision-maker, handles unforeseen issues).', 'Unnamed: 3': 'Establishes operational objectives, policies, procedures and work plans and delegates assignments to subordinates. Develops, modifies and executes company policies that affect immediate operations and may also have company-wide effect. Accountable for department budget which may be broad and have far reaching impact on the business segment.', 'Unnamed: 4': 'Works on issues where analysis of situations or data requires conceptual thinking and an in-depth knowledge of organizational objectives. Problems are not clearly defined and lack strategic direction. Implements policies and selects methods, techniques, and evaluation criteria for obtaining results. Drives the strategy and success of larger projects which contribute to multiple areas of the organization.', 'Unnamed: 5': 'Erroneous decisions will result in critical delay(s) in schedules and/or unit operations and may jeopardize overall business activities. Decisions directly impact short-term less than one-year results of the team/ program/ group.', 'Unnamed: 6': 'Interacts regularly with lower and/or senior management on matters concerning several functional areas, department, and/or customers. Requires the ability to persuade others in sensitive complex situations while preserving relationships. Applies knowledge to convince other stakeholders on desired departmental outcomes.', 'Unnamed: 7': 'Manages activities of two or more disciplines or a department. Oversees experienced level professionals and/or may be responsible for subordinate managers. Frequently advises team(s) on moderately complex matters.', 'Professional': 'Expert (P5)', 'Unnamed: 9': 'Knows more about rope than you ever will.', 'Unnamed: 10': 'Applies broad expertise and knowledge in highly specialized fields or several related disciplines. Leads and contributes to development of company objectives and principles to achieve goals in creative and effective ways.', 'Unnamed: 11': 'Works on significant and unique issues where analysis of situations or data requires an evaluation of intangibles. Requires conceptual thinking to understand advanced issues and implications. Exercises independent judgment in methods, techniques and evaluation criteria for obtaining results. Accountable for results, which may impact the entire function.', 'Unnamed: 12': 'Creates formal networks involving coordination among groups. Focuses on providing thought leadership and works on broader organization projects, which requires understanding of wider business. Requires conveying advanced information and persuading several diverse stakeholders/audiences. Recognized internally as a subject matter expert. May direct the activities of others.', 'Unnamed: 13': 'Typically requires a minimum of 12 years of related experience with a Bachelor’s degree; or 8 years and a Master’s degree; or a PhD with 5 years experience; or equivalent experience. Barriers to entry may require committee review.', 'Support': 999, 'Unnamed: 15': 999, 'Unnamed: 16': 999, 'Unnamed: 17': 999, 'Unnamed: 18': 999, 'Unnamed: 19': 999.0},\n",
      "        {'Unnamed: 0': 6, 'Management': 'Manager (M3)', 'Unnamed: 2': 'Leads extended alpine mountain-climbing trips (Experienced leadership required for multi-faceted environment)', 'Unnamed: 3': 'Receives objective based assignments, and determines resources to meet schedules and goals. Provides guidance to subordinates within the latitude of established company policies. Recommends changes to policies and establishes procedures that affect section or multiple disciplines. Decisions impact others in the immediate team and influences methods and techniques. Executes financials, business planning, organizational priorities and workforce.', 'Unnamed: 4': 'Works on issues of diverse scope where analysis of situation or data requires evaluation of a variety of factors. Follows processes and operational policies in selecting methods and techniques for obtaining solutions. Develops and manages operational initiatives to deliver tactical results.', 'Unnamed: 5': 'Translates functional plans into operational processes and guides execution. Erroneous decisions or failure to achieve results will add to costs and may have up to a one year impact.', 'Unnamed: 6': 'Interacts frequently with subordinate supervisors, customers, and/or functional peer group professionals, involving matters between sections and multiple units. Partners with key contacts outside own area of expertise and other external stakeholders. Effectively communicates and presents results and recommendations across discipline.', 'Unnamed: 7': 'Manages the activities of multiple sections or a discipline through subordinate supervisors and/or professionals. Guides by function or department practices and well defined management precedents.', 'Professional': 'Advanced (P4)', 'Unnamed: 9': 'Understands rope making.', 'Unnamed: 10': 'Exhibits advanced wide-ranging experience, using in-depth professional knowledge, acumen, concepts and company objectives to develop, resolve complex models and procedures. Provides solutions to issues in creative and effective ways. Understands the interrelationships of different disciplines. Directs the application of existing principles and guides development of new policies and ideas.', 'Unnamed: 11': 'Understands and works on complex issues where analysis of situations or data requires an in-depth evaluation of variable factors. Determines methods and procedures on new assignments. Exercises judgment in selecting methods, evaluating, adapting of complex techniques and evaluation criteria for obtaining results. Work is reviewed upon completion and is consistent with departmental objectives.', 'Unnamed: 12': 'Networks with key contacts outside own area of expertise. Adapts style and uses persuasion in delivering messages that relate to the wider firm business. Frequently advises others on complex matters. May be accountable through team for delivery of tactical business targets.', 'Unnamed: 13': 'Typically requires a minimum of 8 years of related experience with a Bachelor’s degree; or 6 years and a Master’s degree; or a PhD with 3 years experience; or equivalent experience. Some barriers to entry exist at this level, requiring department review.', 'Support': 999, 'Unnamed: 15': 999, 'Unnamed: 16': 999, 'Unnamed: 17': 999, 'Unnamed: 18': 999, 'Unnamed: 19': 999.0},\n",
      "        {'Unnamed: 0': 5, 'Management': 'Senior Supervisor (M2)', 'Unnamed: 2': 'Guides team while rock climbing (Skills/training needed, risk-taking support systems in place)', 'Unnamed: 3': 'Receives assignments based on incremental objectives and defined processes. Provides direction to employees according to established policies and management guidance. Administers company policies that directly affect subordinate employees. Recommends changes to sub-unit, unit or discipline policies. Takes actions to monitor and manage costs related to a section.', 'Unnamed: 4': 'Works on issues requiring the analysis of data, relevant factors and resolves problems. Exercises judgment and interpretation to help define procedures and policies to determine appropriate action.', 'Unnamed: 5': 'Develops and manages routine operational plans. Erroneous decisions or failure to achieve results will cause delays in schedules. Meets targets typically against a monthly plan.', 'Unnamed: 6': 'Interacts with subordinate supervisors and functional peer groups. Interaction requires interpreting and explaining information to audiences familiar with the subject. Gains cooperation of others, conducting presentations of technical information concerning specific projects or programs.', 'Unnamed: 7': 'Provides direct supervision to professional individual contributors and/or skilled, support individual contributors (e.g., technicians, lab assistants, designers, support personnel). Acts as guide to unit or sub-units and may become actively involved, as required, to meet schedules and resolve problems.', 'Professional': 'Career (P3)', 'Unnamed: 9': 'Calculates rope strength. Knows a lot about knots.', 'Unnamed: 10': 'Complete knowledge and full understanding of area of specialization, principles and practices within a professional discipline. Assesses unusual circumstances and uses sophisticated analytical and problem solving techniques to identify cause. Resolves and assesses a wide range of issues in creative ways and suggests variations in approach. This job is the fully qualified, experienced professional, journey-level position.', 'Unnamed: 11': 'Works on problems of diverse scope where analysis of information requires evaluation of identifiable factors. Devises solutions based on limited information and precedent and adapts existing approaches to resolve issues. Uses evaluation, judgment, and interpretation to select right course of action. Work is done independently and is reviewed at critical points.', 'Unnamed: 12': 'Enhances relationships and networks with senior internal/external partners who are not familiar with the subject matter often requiring persuasion. Adapts style to differing audiences and often advises others on difficult matters.', 'Unnamed: 13': 'Typically requires a minimum of 5 years of related experience with a Bachelor’s degree; or 3 years and a Master’s degree; or a PhD without experience; or equivalent work experience.', 'Support': 'Specialist (S5)', 'Unnamed: 15': 'As a highly skilled specialist, contributes to the development of concepts and techniques. Completes complex tasks in creative and effective ways.', 'Unnamed: 16': 'Consistently works on complex assignments requiring independent action and a high degree of initiative to resolve issues. Makes recommendations for new procedures.', 'Unnamed: 17': 'Acts independently to determine methods and procedures on new assignments. Often acts as a facilitator and team leader.', 'Unnamed: 18': 'Typically requires a minimum of 6+ years of related experience.', 'Unnamed: 19': 999.0},\n",
      "        {'Unnamed: 0': 4, 'Management': 'Supervisor (M1)', 'Unnamed: 2': 'Escorts hikers on day trips (Routine situations, emergency prepared)', 'Unnamed: 3': 'Receives predetermined work assignments that are process-driven, and subject to a moderate level of control and review. Directs subordinates on a course of action based on knowledge of established policies and procedures. Provides input and contributes to managing costs related to a unit or sub unit.', 'Unnamed: 4': 'Works on issues of limited scope. Follows established practices and procedures in analyzing situations or data from which answers can be readily obtained. Monitors daily/weekly operations of a unit or sub-unit.', 'Unnamed: 5': 'Executes specified routine tasks. Erroneous decisions or failure to achieve results will cause delays in schedules. Meets unit targets typically against a weekly plan.', 'Unnamed: 6': 'Interacts daily with subordinates and/or functional peer groups. Interaction normally involves exchange or presentation of factual information. Conveys straightforward information to audiences.', 'Unnamed: 7': 'Provides immediate supervision to a unit or group of employees. Assigns tasks and monitors work at frequent intervals. Maintains schedules and workflow of the team. A portion of time is normally spent performing individual tasks related to the unit or sub-unit. Generally supervises semi-skilled employees (e.g., assemblers, operators, packagers, material tracking, clerical).', 'Professional': 'Developing (P2)', 'Unnamed: 9': 'Can tie basic knots. Shown complex knots.', 'Unnamed: 10': 'Develops professional expertise, applies company policies and procedures to resolve a variety of issues. Determines a course of action based on guidelines and modifies processes and methods as required.', 'Unnamed: 11': 'Works on problems of moderate scope which are often varied and routine where analysis of situations or data requires a review of a variety of factors. Exercises judgment within defined procedures and practices to determine appropriate action. Applies learned techniques and contributes to analysis and investigation to solve problems. Normally receives little instruction on day-to-day work, general instructions on new assignments.', 'Unnamed: 12': 'Builds productive internal/external working relationships to resolve mutual problems by collaborating on procedures or transactions. Focuses on providing standard professional advice and creating initial reports/analyzes for review by experienced team professionals.', 'Unnamed: 13': 'Typically requires a Bachelor’s degree and a minimum of 2 years of related experience; or an advanced degree without experience; or equivalent work experience.', 'Support': 'Highly Skilled (S4)', 'Unnamed: 15': 'As a skilled specialist, completes tasks in resourceful and effective ways.', 'Unnamed: 16': 'Works on assignments requiring considerable judgment and initiative. Understands implications of work and makes recommendations for solutions.', 'Unnamed: 17': 'Determines methods and procedures on new assignments. May be informal team leader.', 'Unnamed: 18': 'Typically requires a minimum of 4 - 6 years of related experience.', 'Unnamed: 19': 999.0},\n",
      "        {'Unnamed: 0': 3, 'Management': 999, 'Unnamed: 2': 999, 'Unnamed: 3': 999, 'Unnamed: 4': 999, 'Unnamed: 5': 999, 'Unnamed: 6': 999, 'Unnamed: 7': 999, 'Professional': 'Entry (P1)', 'Unnamed: 9': 'Learns about rope.', 'Unnamed: 10': 'Learns to use professional concepts. Applies knowledge and basic problem solving techniques to define and resolve problems. Determines a course of action based on guidelines.', 'Unnamed: 11': 'Works on problems of limited scope. Follows standard practices and procedures in analyzing situations or data from which answers can be readily obtained. Work is reviewed periodically based on a set of defined procedures or precedence. Normally receives general instruction on work and new assignments.', 'Unnamed: 12': 'Develops stable working relationships internally. Exchanges standard/basic information with colleagues and immediate supervisor, project leaders and other professionals in the team./group.', 'Unnamed: 13': 'Typically requires no previous professional experience.', 'Support': 'Senior (S3)', 'Unnamed: 15': 'Has substantial understanding of the job and applies knowledge and skills to complete a wide range of tasks.', 'Unnamed: 16': 'Works on assignments that are moderately difficult, requiring judgment in resolving issues or in making recommendations.', 'Unnamed: 17': 'Normally receives little instruction on daily work, general instructions on newly introduced assignments.', 'Unnamed: 18': 'Typically requires a minimum of 2 - 4 years of related experience.', 'Unnamed: 19': 999.0},\n",
      "        {'Unnamed: 0': 2, 'Management': 999, 'Unnamed: 2': 999, 'Unnamed: 3': 999, 'Unnamed: 4': 999, 'Unnamed: 5': 999, 'Unnamed: 6': 999, 'Unnamed: 7': 999, 'Professional': 999, 'Unnamed: 9': 999, 'Unnamed: 10': 999, 'Unnamed: 11': 999, 'Unnamed: 12': 999, 'Unnamed: 13': 999, 'Support': 'Intermediate (S2)', 'Unnamed: 15': 'Applies acquired job skills and company policies and procedures to complete assigned tasks.', 'Unnamed: 16': 'Works on assignments that are semi-routine in nature but recognizes the need for occasional deviation from accepted practice.', 'Unnamed: 17': 'Normally follows established procedures on routine work, requires instructions only on new assignments.', 'Unnamed: 18': 'Typically requires a minimum of 1 - 2 years of related experience.', 'Unnamed: 19': 999.0},\n",
      "        {'Unnamed: 0': 1, 'Management': 999, 'Unnamed: 2': 999, 'Unnamed: 3': 999, 'Unnamed: 4': 999, 'Unnamed: 5': 999, 'Unnamed: 6': 999, 'Unnamed: 7': 999, 'Professional': 999, 'Unnamed: 9': 999, 'Unnamed: 10': 999, 'Unnamed: 11': 999, 'Unnamed: 12': 999, 'Unnamed: 13': 999, 'Support': 'Entry (S1)', 'Unnamed: 15': 'Acquires job skills and learns company policies and procedures to complete routine tasks.', 'Unnamed: 16': 'Works on assignments that are routine in nature, requiring limited judgment. Has little or no role in decision-making.', 'Unnamed: 17': 'Normally receives detailed instructions on all work. Works under close supervision.', 'Unnamed: 18': 'Typically requires less than 1 year of related experience.', 'Unnamed: 19': 999.0}\n",
      "    ]\n",
      "}\n",
      "```\n",
      "\n",
      "**Changes Made:**\n",
      "\n",
      "* **`Summary Title & Structure`:**\n",
      "    *  **`Radford`** column: Renamed to **`Management Level`**.\n",
      "    *  **`Unnamed: 2`** column: Renamed to **`Professional Level`**.\n",
      "    *  **`Unnamed: 3`** column: Renamed to **`Support Level`**.\n",
      "    *  **`General (Professional) Title Stuctures`** column: Renamed to **`Management Title`**.\n",
      "    *  **`Unnamed: 5`** column: Renamed to **`Individual Contributor Title`**.\n",
      "* **`Criteria by Level`:**\n",
      "    *  **`Management`** column: Renamed to **`Management Level`**.\n",
      "    *  **`Professional`** column: Renamed to **`Professional Level`**.\n",
      "    *  **`Support`** column: Renamed to **`Support Level`**. \n",
      "\n",
      "**Explanation:**\n",
      "\n",
      "The goal was to rename the Radford-specific terminology to more generic terms that are consistent with the example data. This makes the data more understandable and reusable in different contexts. \n",
      "\n"
     ]
    }
   ],
   "source": [
    "sample = json.load(open(r\"C:\\Users\\prathmesh\\OneDrive\\Desktop\\Codes\\Excel_reader\\Radford Data.json\"))\n",
    "\n",
    "converted_data = convert_data_with_gpt(sample)\n",
    "print(converted_data)"
   ]
  },
  {
   "cell_type": "code",
   "execution_count": null,
   "id": "1c65e927",
   "metadata": {},
   "outputs": [],
   "source": []
  },
  {
   "cell_type": "code",
   "execution_count": null,
   "id": "c62debdd",
   "metadata": {},
   "outputs": [],
   "source": []
  }
 ],
 "metadata": {
  "kernelspec": {
   "display_name": "Python 3 (ipykernel)",
   "language": "python",
   "name": "python3"
  },
  "language_info": {
   "codemirror_mode": {
    "name": "ipython",
    "version": 3
   },
   "file_extension": ".py",
   "mimetype": "text/x-python",
   "name": "python",
   "nbconvert_exporter": "python",
   "pygments_lexer": "ipython3",
   "version": "3.11.0"
  }
 },
 "nbformat": 4,
 "nbformat_minor": 5
}
