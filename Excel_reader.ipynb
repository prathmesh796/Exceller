{
 "cells": [
  {
   "cell_type": "code",
   "execution_count": 1,
   "id": "b2211977",
   "metadata": {},
   "outputs": [],
   "source": [
    "import pandas as pd\n",
    "import json\n",
    "import google.generativeai as genai\n",
    "import os"
   ]
  },
  {
   "cell_type": "code",
   "execution_count": 2,
   "id": "415a36c3",
   "metadata": {},
   "outputs": [],
   "source": [
    "def excel_to_json(file_path, output_file):\n",
    "    xls = pd.ExcelFile(file_path)\n",
    "    data = {}\n",
    "    \n",
    "    for sheet in xls.sheet_names:\n",
    "        df = pd.read_excel(xls, sheet_name=sheet)\n",
    "        df.fillna(value=999, inplace=True)\n",
    "        data[sheet] = df.to_dict(orient='records')\n",
    "\n",
    "    with open(output_file, 'w') as json_file:\n",
    "        json.dump(data, json_file, indent=4)\n",
    "\n",
    "    print(f'Converted {file_path} to output_file')"
   ]
  },
  {
   "cell_type": "code",
   "execution_count": 3,
   "id": "4c3f793b",
   "metadata": {},
   "outputs": [],
   "source": [
    "def prepare_prompt(data):\n",
    "    summary_request = \"Please summarize the following data:\\n\\n\"\n",
    "    summary_request += json.dumps(data, indent=2)\n",
    "    summary_request += \"\\n\\nProvide a brief summary.\"\n",
    "    return summary_request"
   ]
  },
  {
   "cell_type": "code",
   "execution_count": 4,
   "id": "d30c51d2",
   "metadata": {},
   "outputs": [],
   "source": [
    "os.environ[\"API_KEY\"] = \"$ {{API_KEY}}\"\n",
    "genai.configure(api_key=os.environ[\"API_KEY\"])\n",
    "\n",
    "prompt_template = \"\"\"\n",
    "You are a data conversion assistant. Convert the following Radford base data terminology to match the example data terminology:\n",
    "\n",
    "Radford Data: \n",
    "{input_data}\n",
    "\n",
    "Converted Data:\n",
    "\"\"\""
   ]
  },
  {
   "cell_type": "code",
   "execution_count": 5,
   "id": "9749ed97",
   "metadata": {},
   "outputs": [],
   "source": [
    "def convert_data_with_gpt(prompt_template):\n",
    "    prompt = prompt_template\n",
    "    model = genai.GenerativeModel('gemini-1.5-flash')\n",
    "    response = model.generate_content(prompt)\n",
    "    return response.text"
   ]
  },
  {
   "cell_type": "code",
   "execution_count": 6,
   "id": "08cba076",
   "metadata": {},
   "outputs": [
    {
     "name": "stdout",
     "output_type": "stream",
     "text": [
      "Converted C:\\Users\\prathmesh\\OneDrive\\Desktop\\Codes\\Excel_reader\\Central Job Leveling Framework - Radford reference.xlsx to output_file\n",
      "This data compares job titles and levels across three different companies: Thumbtack, Radford, and an unnamed company. The data is organized into two sections:\n",
      "\n",
      "1. **\"Summary Title & Structure\"**: This section shows a mapping of job levels across the three companies and provides examples of common title structures for both general professional roles and support & operations roles. \n",
      "\n",
      "2. **\"Criteria by Level\"**: This section outlines the responsibilities, knowledge, experience, and skills expected at each level for both management and professional roles. It also includes information about typical degree and years of experience required for each level in support roles.\n",
      "\n",
      "Overall, the data provides a comprehensive overview of how job levels and titles are structured across different companies. It also offers insights into the expectations and requirements associated with each level. \n",
      "\n"
     ]
    }
   ],
   "source": [
    "excel_file = r\"C:\\Users\\prathmesh\\OneDrive\\Desktop\\Codes\\Excel_reader\\Central Job Leveling Framework - Radford reference.xlsx\"\n",
    "excel_to_json(excel_file, f'temp.json')\n",
    "\n",
    "sample = json.load(open(r\"C:\\Users\\prathmesh\\OneDrive\\Desktop\\Codes\\Excel_reader\\Radford Data.json\"))\n",
    "\n",
    "prompt = prepare_prompt(sample)\n",
    "output = convert_data_with_gpt(prompt)\n",
    "print(output)"
   ]
  }
 ],
 "metadata": {
  "kernelspec": {
   "display_name": "Python 3 (ipykernel)",
   "language": "python",
   "name": "python3"
  },
  "language_info": {
   "codemirror_mode": {
    "name": "ipython",
    "version": 3
   },
   "file_extension": ".py",
   "mimetype": "text/x-python",
   "name": "python",
   "nbconvert_exporter": "python",
   "pygments_lexer": "ipython3",
   "version": "3.11.0"
  }
 },
 "nbformat": 4,
 "nbformat_minor": 5
}
